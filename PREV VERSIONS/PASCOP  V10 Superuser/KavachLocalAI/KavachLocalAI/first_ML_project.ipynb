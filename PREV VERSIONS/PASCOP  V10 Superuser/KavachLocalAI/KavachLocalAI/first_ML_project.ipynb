{
  "cells": [
    {
      "cell_type": "markdown",
      "metadata": {
        "id": "FNC4nize7KXS"
      },
      "source": [
        "# **My First ML Project**"
      ]
    },
    {
      "cell_type": "markdown",
      "metadata": {
        "id": "25Vxv1iF7Y9_"
      },
      "source": [
        "# **Load data**"
      ]
    },
    {
      "cell_type": "code",
      "execution_count": 1,
      "metadata": {},
      "outputs": [],
      "source": [
        "\n",
        "import pickle\n",
        "import pandas as pd\n",
        "import numpy as np\n",
        "import matplotlib.pyplot as plt\n",
        "import matplotlib.axes as ax\n",
        "from matplotlib.animation import FuncAnimation\n",
        "import joblib\n",
        "from sklearn.model_selection import train_test_split\n",
        "from sklearn.preprocessing import LabelEncoder\n",
        "from sklearn.ensemble import RandomForestRegressor\n",
        "from sklearn.ensemble import RandomForestClassifier\n",
        "from sklearn.linear_model import LinearRegression\n",
        "from sklearn.impute import SimpleImputer \n",
        "from sklearn.metrics import classification_report, accuracy_score, confusion_matrix\n"
      ]
    },
    {
      "cell_type": "code",
      "execution_count": 2,
      "metadata": {},
      "outputs": [],
      "source": [
        "dtype_dict = {\n",
        "    'Requestid': int,\n",
        "    'StatusCode': int,\n",
        "    'ip': str,  # Read IP initially as a string\n",
        "    'url': str,\n",
        "    'type': str,\n",
        "    'timestamp': str,\n",
        "    'tableid': int,\n",
        "    'fromcache': bool,\n",
        "    'method': str,\n",
        "    'target': str  \n",
        "}"
      ]
    },
    {
      "cell_type": "code",
      "execution_count": 3,
      "metadata": {
        "colab": {
          "base_uri": "https://localhost:8080/",
          "height": 424
        },
        "id": "He_caBHQ6jL5",
        "outputId": "e60c2905-46e1-476c-f9e5-ba30956ac8dd"
      },
      "outputs": [
        {
          "data": {
            "text/html": [
              "<div>\n",
              "<style scoped>\n",
              "    .dataframe tbody tr th:only-of-type {\n",
              "        vertical-align: middle;\n",
              "    }\n",
              "\n",
              "    .dataframe tbody tr th {\n",
              "        vertical-align: top;\n",
              "    }\n",
              "\n",
              "    .dataframe thead th {\n",
              "        text-align: right;\n",
              "    }\n",
              "</style>\n",
              "<table border=\"1\" class=\"dataframe\">\n",
              "  <thead>\n",
              "    <tr style=\"text-align: right;\">\n",
              "      <th></th>\n",
              "      <th>Requestid</th>\n",
              "      <th>StatusCode</th>\n",
              "      <th>ip</th>\n",
              "      <th>url</th>\n",
              "      <th>type</th>\n",
              "      <th>timestamp</th>\n",
              "      <th>tableid</th>\n",
              "      <th>fromcache</th>\n",
              "      <th>method</th>\n",
              "      <th>target</th>\n",
              "    </tr>\n",
              "  </thead>\n",
              "  <tbody>\n",
              "    <tr>\n",
              "      <th>0</th>\n",
              "      <td>1</td>\n",
              "      <td>404</td>\n",
              "      <td>192.168.1.1</td>\n",
              "      <td>https://example.com/page-not-found</td>\n",
              "      <td>html</td>\n",
              "      <td>1702391637000</td>\n",
              "      <td>1419931203</td>\n",
              "      <td>False</td>\n",
              "      <td>GET</td>\n",
              "      <td>good</td>\n",
              "    </tr>\n",
              "    <tr>\n",
              "      <th>1</th>\n",
              "      <td>2</td>\n",
              "      <td>200</td>\n",
              "      <td>192.168.1.2</td>\n",
              "      <td>https://example.com/home</td>\n",
              "      <td>html</td>\n",
              "      <td>1702391638000</td>\n",
              "      <td>1419931203</td>\n",
              "      <td>True</td>\n",
              "      <td>GET</td>\n",
              "      <td>good</td>\n",
              "    </tr>\n",
              "    <tr>\n",
              "      <th>2</th>\n",
              "      <td>3</td>\n",
              "      <td>302</td>\n",
              "      <td>192.168.1.3</td>\n",
              "      <td>https://example.com/redirected</td>\n",
              "      <td>html</td>\n",
              "      <td>1702391639000</td>\n",
              "      <td>1419931203</td>\n",
              "      <td>False</td>\n",
              "      <td>GET</td>\n",
              "      <td>good</td>\n",
              "    </tr>\n",
              "    <tr>\n",
              "      <th>3</th>\n",
              "      <td>4</td>\n",
              "      <td>200</td>\n",
              "      <td>192.168.1.4</td>\n",
              "      <td>https://example.com/image.jpg</td>\n",
              "      <td>image</td>\n",
              "      <td>1702391640000</td>\n",
              "      <td>1419931204</td>\n",
              "      <td>True</td>\n",
              "      <td>GET</td>\n",
              "      <td>good</td>\n",
              "    </tr>\n",
              "    <tr>\n",
              "      <th>4</th>\n",
              "      <td>5</td>\n",
              "      <td>200</td>\n",
              "      <td>192.168.1.5</td>\n",
              "      <td>https://example.com/style.css</td>\n",
              "      <td>css</td>\n",
              "      <td>1702391641000</td>\n",
              "      <td>1419931204</td>\n",
              "      <td>True</td>\n",
              "      <td>GET</td>\n",
              "      <td>good</td>\n",
              "    </tr>\n",
              "    <tr>\n",
              "      <th>...</th>\n",
              "      <td>...</td>\n",
              "      <td>...</td>\n",
              "      <td>...</td>\n",
              "      <td>...</td>\n",
              "      <td>...</td>\n",
              "      <td>...</td>\n",
              "      <td>...</td>\n",
              "      <td>...</td>\n",
              "      <td>...</td>\n",
              "      <td>...</td>\n",
              "    </tr>\n",
              "    <tr>\n",
              "      <th>110</th>\n",
              "      <td>5</td>\n",
              "      <td>200</td>\n",
              "      <td>192.168.1.5</td>\n",
              "      <td>https://example.com/style.css</td>\n",
              "      <td>css</td>\n",
              "      <td>1702391641000</td>\n",
              "      <td>1419931204</td>\n",
              "      <td>True</td>\n",
              "      <td>GET</td>\n",
              "      <td>good</td>\n",
              "    </tr>\n",
              "    <tr>\n",
              "      <th>111</th>\n",
              "      <td>6</td>\n",
              "      <td>500</td>\n",
              "      <td>192.168.1.6</td>\n",
              "      <td>https://example.com/server-error</td>\n",
              "      <td>html</td>\n",
              "      <td>1702391642000</td>\n",
              "      <td>1419931204</td>\n",
              "      <td>False</td>\n",
              "      <td>GET</td>\n",
              "      <td>malicious</td>\n",
              "    </tr>\n",
              "    <tr>\n",
              "      <th>112</th>\n",
              "      <td>7</td>\n",
              "      <td>200</td>\n",
              "      <td>192.168.1.7</td>\n",
              "      <td>https://example.com/success</td>\n",
              "      <td>html</td>\n",
              "      <td>1702391643000</td>\n",
              "      <td>1419931205</td>\n",
              "      <td>True</td>\n",
              "      <td>POST</td>\n",
              "      <td>good</td>\n",
              "    </tr>\n",
              "    <tr>\n",
              "      <th>113</th>\n",
              "      <td>8</td>\n",
              "      <td>403</td>\n",
              "      <td>192.168.1.8</td>\n",
              "      <td>https://example.com/forbidden</td>\n",
              "      <td>html</td>\n",
              "      <td>1702391644000</td>\n",
              "      <td>1419931205</td>\n",
              "      <td>False</td>\n",
              "      <td>GET</td>\n",
              "      <td>malicious</td>\n",
              "    </tr>\n",
              "    <tr>\n",
              "      <th>114</th>\n",
              "      <td>9</td>\n",
              "      <td>200</td>\n",
              "      <td>192.168.1.9</td>\n",
              "      <td>https://example.com/data.json</td>\n",
              "      <td>json</td>\n",
              "      <td>1702391645000</td>\n",
              "      <td>1419931205</td>\n",
              "      <td>True</td>\n",
              "      <td>GET</td>\n",
              "      <td>good</td>\n",
              "    </tr>\n",
              "  </tbody>\n",
              "</table>\n",
              "<p>115 rows × 10 columns</p>\n",
              "</div>"
            ],
            "text/plain": [
              "     Requestid  StatusCode           ip                                 url  \\\n",
              "0            1         404  192.168.1.1  https://example.com/page-not-found   \n",
              "1            2         200  192.168.1.2            https://example.com/home   \n",
              "2            3         302  192.168.1.3      https://example.com/redirected   \n",
              "3            4         200  192.168.1.4       https://example.com/image.jpg   \n",
              "4            5         200  192.168.1.5       https://example.com/style.css   \n",
              "..         ...         ...          ...                                 ...   \n",
              "110          5         200  192.168.1.5       https://example.com/style.css   \n",
              "111          6         500  192.168.1.6    https://example.com/server-error   \n",
              "112          7         200  192.168.1.7         https://example.com/success   \n",
              "113          8         403  192.168.1.8       https://example.com/forbidden   \n",
              "114          9         200  192.168.1.9       https://example.com/data.json   \n",
              "\n",
              "      type      timestamp     tableid  fromcache method     target  \n",
              "0     html  1702391637000  1419931203      False    GET       good  \n",
              "1     html  1702391638000  1419931203       True    GET       good  \n",
              "2     html  1702391639000  1419931203      False    GET       good  \n",
              "3    image  1702391640000  1419931204       True    GET       good  \n",
              "4      css  1702391641000  1419931204       True    GET       good  \n",
              "..     ...            ...         ...        ...    ...        ...  \n",
              "110    css  1702391641000  1419931204       True    GET       good  \n",
              "111   html  1702391642000  1419931204      False    GET  malicious  \n",
              "112   html  1702391643000  1419931205       True   POST       good  \n",
              "113   html  1702391644000  1419931205      False    GET  malicious  \n",
              "114   json  1702391645000  1419931205       True    GET       good  \n",
              "\n",
              "[115 rows x 10 columns]"
            ]
          },
          "execution_count": 3,
          "metadata": {},
          "output_type": "execute_result"
        }
      ],
      "source": [
        "df = pd.read_csv(r'C:\\Users\\acer\\Desktop\\CYBER HYGIENE TOOL V9 Superuser\\KavachLocalAI\\urls.csv')\n",
        "df"
      ]
    },
    {
      "cell_type": "code",
      "execution_count": 4,
      "metadata": {},
      "outputs": [
        {
          "name": "stdout",
          "output_type": "stream",
          "text": [
            "     Requestid  StatusCode           ip                                 url  \\\n",
            "0            1         404  192.168.1.1  https://example.com/page-not-found   \n",
            "1            2         200  192.168.1.2            https://example.com/home   \n",
            "2            3         302  192.168.1.3      https://example.com/redirected   \n",
            "3            4         200  192.168.1.4       https://example.com/image.jpg   \n",
            "4            5         200  192.168.1.5       https://example.com/style.css   \n",
            "..         ...         ...          ...                                 ...   \n",
            "110          5         200  192.168.1.5       https://example.com/style.css   \n",
            "111          6         500  192.168.1.6    https://example.com/server-error   \n",
            "112          7         200  192.168.1.7         https://example.com/success   \n",
            "113          8         403  192.168.1.8       https://example.com/forbidden   \n",
            "114          9         200  192.168.1.9       https://example.com/data.json   \n",
            "\n",
            "      type      timestamp     tableid  fromcache method     target  \n",
            "0     html  1702391637000  1419931203      False    GET       good  \n",
            "1     html  1702391638000  1419931203       True    GET       good  \n",
            "2     html  1702391639000  1419931203      False    GET       good  \n",
            "3    image  1702391640000  1419931204       True    GET       good  \n",
            "4      css  1702391641000  1419931204       True    GET       good  \n",
            "..     ...            ...         ...        ...    ...        ...  \n",
            "110    css  1702391641000  1419931204       True    GET       good  \n",
            "111   html  1702391642000  1419931204      False    GET  malicious  \n",
            "112   html  1702391643000  1419931205       True   POST       good  \n",
            "113   html  1702391644000  1419931205      False    GET  malicious  \n",
            "114   json  1702391645000  1419931205       True    GET       good  \n",
            "\n",
            "[115 rows x 10 columns]\n"
          ]
        }
      ],
      "source": [
        "label_encoder = LabelEncoder()\n",
        "\n",
        "print(df)\n"
      ]
    },
    {
      "cell_type": "markdown",
      "metadata": {
        "id": "S_6YQIs_9fH2"
      },
      "source": [
        "# **Data preparation**"
      ]
    },
    {
      "cell_type": "markdown",
      "metadata": {
        "id": "fsTJwt4r9keK"
      },
      "source": [
        "## Data separation as X and y"
      ]
    },
    {
      "cell_type": "code",
      "execution_count": 5,
      "metadata": {
        "colab": {
          "base_uri": "https://localhost:8080/"
        },
        "id": "Aju4__Qx9egR",
        "outputId": "7674a71e-f94b-447c-d3ad-77dedc6b19df"
      },
      "outputs": [
        {
          "data": {
            "text/plain": [
              "0           good\n",
              "1           good\n",
              "2           good\n",
              "3           good\n",
              "4           good\n",
              "         ...    \n",
              "110         good\n",
              "111    malicious\n",
              "112         good\n",
              "113    malicious\n",
              "114         good\n",
              "Name: target, Length: 115, dtype: object"
            ]
          },
          "execution_count": 5,
          "metadata": {},
          "output_type": "execute_result"
        }
      ],
      "source": [
        "y = df['target']\n",
        "y"
      ]
    },
    {
      "cell_type": "code",
      "execution_count": 6,
      "metadata": {
        "colab": {
          "base_uri": "https://localhost:8080/",
          "height": 424
        },
        "id": "PKDTmEIt9zX7",
        "outputId": "0f076684-0118-4b8f-8d64-df5a9785f1f3"
      },
      "outputs": [
        {
          "data": {
            "text/html": [
              "<div>\n",
              "<style scoped>\n",
              "    .dataframe tbody tr th:only-of-type {\n",
              "        vertical-align: middle;\n",
              "    }\n",
              "\n",
              "    .dataframe tbody tr th {\n",
              "        vertical-align: top;\n",
              "    }\n",
              "\n",
              "    .dataframe thead th {\n",
              "        text-align: right;\n",
              "    }\n",
              "</style>\n",
              "<table border=\"1\" class=\"dataframe\">\n",
              "  <thead>\n",
              "    <tr style=\"text-align: right;\">\n",
              "      <th></th>\n",
              "      <th>Requestid</th>\n",
              "      <th>StatusCode</th>\n",
              "      <th>ip</th>\n",
              "      <th>url</th>\n",
              "      <th>type</th>\n",
              "      <th>timestamp</th>\n",
              "      <th>tableid</th>\n",
              "      <th>fromcache</th>\n",
              "      <th>method</th>\n",
              "    </tr>\n",
              "  </thead>\n",
              "  <tbody>\n",
              "    <tr>\n",
              "      <th>0</th>\n",
              "      <td>1</td>\n",
              "      <td>404</td>\n",
              "      <td>192.168.1.1</td>\n",
              "      <td>https://example.com/page-not-found</td>\n",
              "      <td>html</td>\n",
              "      <td>1702391637000</td>\n",
              "      <td>1419931203</td>\n",
              "      <td>False</td>\n",
              "      <td>GET</td>\n",
              "    </tr>\n",
              "    <tr>\n",
              "      <th>1</th>\n",
              "      <td>2</td>\n",
              "      <td>200</td>\n",
              "      <td>192.168.1.2</td>\n",
              "      <td>https://example.com/home</td>\n",
              "      <td>html</td>\n",
              "      <td>1702391638000</td>\n",
              "      <td>1419931203</td>\n",
              "      <td>True</td>\n",
              "      <td>GET</td>\n",
              "    </tr>\n",
              "    <tr>\n",
              "      <th>2</th>\n",
              "      <td>3</td>\n",
              "      <td>302</td>\n",
              "      <td>192.168.1.3</td>\n",
              "      <td>https://example.com/redirected</td>\n",
              "      <td>html</td>\n",
              "      <td>1702391639000</td>\n",
              "      <td>1419931203</td>\n",
              "      <td>False</td>\n",
              "      <td>GET</td>\n",
              "    </tr>\n",
              "    <tr>\n",
              "      <th>3</th>\n",
              "      <td>4</td>\n",
              "      <td>200</td>\n",
              "      <td>192.168.1.4</td>\n",
              "      <td>https://example.com/image.jpg</td>\n",
              "      <td>image</td>\n",
              "      <td>1702391640000</td>\n",
              "      <td>1419931204</td>\n",
              "      <td>True</td>\n",
              "      <td>GET</td>\n",
              "    </tr>\n",
              "    <tr>\n",
              "      <th>4</th>\n",
              "      <td>5</td>\n",
              "      <td>200</td>\n",
              "      <td>192.168.1.5</td>\n",
              "      <td>https://example.com/style.css</td>\n",
              "      <td>css</td>\n",
              "      <td>1702391641000</td>\n",
              "      <td>1419931204</td>\n",
              "      <td>True</td>\n",
              "      <td>GET</td>\n",
              "    </tr>\n",
              "    <tr>\n",
              "      <th>...</th>\n",
              "      <td>...</td>\n",
              "      <td>...</td>\n",
              "      <td>...</td>\n",
              "      <td>...</td>\n",
              "      <td>...</td>\n",
              "      <td>...</td>\n",
              "      <td>...</td>\n",
              "      <td>...</td>\n",
              "      <td>...</td>\n",
              "    </tr>\n",
              "    <tr>\n",
              "      <th>110</th>\n",
              "      <td>5</td>\n",
              "      <td>200</td>\n",
              "      <td>192.168.1.5</td>\n",
              "      <td>https://example.com/style.css</td>\n",
              "      <td>css</td>\n",
              "      <td>1702391641000</td>\n",
              "      <td>1419931204</td>\n",
              "      <td>True</td>\n",
              "      <td>GET</td>\n",
              "    </tr>\n",
              "    <tr>\n",
              "      <th>111</th>\n",
              "      <td>6</td>\n",
              "      <td>500</td>\n",
              "      <td>192.168.1.6</td>\n",
              "      <td>https://example.com/server-error</td>\n",
              "      <td>html</td>\n",
              "      <td>1702391642000</td>\n",
              "      <td>1419931204</td>\n",
              "      <td>False</td>\n",
              "      <td>GET</td>\n",
              "    </tr>\n",
              "    <tr>\n",
              "      <th>112</th>\n",
              "      <td>7</td>\n",
              "      <td>200</td>\n",
              "      <td>192.168.1.7</td>\n",
              "      <td>https://example.com/success</td>\n",
              "      <td>html</td>\n",
              "      <td>1702391643000</td>\n",
              "      <td>1419931205</td>\n",
              "      <td>True</td>\n",
              "      <td>POST</td>\n",
              "    </tr>\n",
              "    <tr>\n",
              "      <th>113</th>\n",
              "      <td>8</td>\n",
              "      <td>403</td>\n",
              "      <td>192.168.1.8</td>\n",
              "      <td>https://example.com/forbidden</td>\n",
              "      <td>html</td>\n",
              "      <td>1702391644000</td>\n",
              "      <td>1419931205</td>\n",
              "      <td>False</td>\n",
              "      <td>GET</td>\n",
              "    </tr>\n",
              "    <tr>\n",
              "      <th>114</th>\n",
              "      <td>9</td>\n",
              "      <td>200</td>\n",
              "      <td>192.168.1.9</td>\n",
              "      <td>https://example.com/data.json</td>\n",
              "      <td>json</td>\n",
              "      <td>1702391645000</td>\n",
              "      <td>1419931205</td>\n",
              "      <td>True</td>\n",
              "      <td>GET</td>\n",
              "    </tr>\n",
              "  </tbody>\n",
              "</table>\n",
              "<p>115 rows × 9 columns</p>\n",
              "</div>"
            ],
            "text/plain": [
              "     Requestid  StatusCode           ip                                 url  \\\n",
              "0            1         404  192.168.1.1  https://example.com/page-not-found   \n",
              "1            2         200  192.168.1.2            https://example.com/home   \n",
              "2            3         302  192.168.1.3      https://example.com/redirected   \n",
              "3            4         200  192.168.1.4       https://example.com/image.jpg   \n",
              "4            5         200  192.168.1.5       https://example.com/style.css   \n",
              "..         ...         ...          ...                                 ...   \n",
              "110          5         200  192.168.1.5       https://example.com/style.css   \n",
              "111          6         500  192.168.1.6    https://example.com/server-error   \n",
              "112          7         200  192.168.1.7         https://example.com/success   \n",
              "113          8         403  192.168.1.8       https://example.com/forbidden   \n",
              "114          9         200  192.168.1.9       https://example.com/data.json   \n",
              "\n",
              "      type      timestamp     tableid  fromcache method  \n",
              "0     html  1702391637000  1419931203      False    GET  \n",
              "1     html  1702391638000  1419931203       True    GET  \n",
              "2     html  1702391639000  1419931203      False    GET  \n",
              "3    image  1702391640000  1419931204       True    GET  \n",
              "4      css  1702391641000  1419931204       True    GET  \n",
              "..     ...            ...         ...        ...    ...  \n",
              "110    css  1702391641000  1419931204       True    GET  \n",
              "111   html  1702391642000  1419931204      False    GET  \n",
              "112   html  1702391643000  1419931205       True   POST  \n",
              "113   html  1702391644000  1419931205      False    GET  \n",
              "114   json  1702391645000  1419931205       True    GET  \n",
              "\n",
              "[115 rows x 9 columns]"
            ]
          },
          "execution_count": 6,
          "metadata": {},
          "output_type": "execute_result"
        }
      ],
      "source": [
        "X = df.drop('target', axis=1)\n",
        "X"
      ]
    },
    {
      "cell_type": "markdown",
      "metadata": {
        "id": "FWgN9vQp-QJg"
      },
      "source": [
        "## Data splitting"
      ]
    },
    {
      "cell_type": "code",
      "execution_count": 7,
      "metadata": {
        "id": "ZRR5UNar-AVY"
      },
      "outputs": [],
      "source": [
        "from sklearn.model_selection import train_test_split\n",
        "\n",
        "\n",
        "X_train, X_test, y_train, y_test = train_test_split(X, y, test_size=0.2, random_state=100)"
      ]
    },
    {
      "cell_type": "code",
      "execution_count": 8,
      "metadata": {
        "colab": {
          "base_uri": "https://localhost:8080/",
          "height": 424
        },
        "id": "Qr7WeW4t-nfb",
        "outputId": "28f3492f-1425-4754-e68b-ae342334f5f1"
      },
      "outputs": [
        {
          "data": {
            "text/html": [
              "<div>\n",
              "<style scoped>\n",
              "    .dataframe tbody tr th:only-of-type {\n",
              "        vertical-align: middle;\n",
              "    }\n",
              "\n",
              "    .dataframe tbody tr th {\n",
              "        vertical-align: top;\n",
              "    }\n",
              "\n",
              "    .dataframe thead th {\n",
              "        text-align: right;\n",
              "    }\n",
              "</style>\n",
              "<table border=\"1\" class=\"dataframe\">\n",
              "  <thead>\n",
              "    <tr style=\"text-align: right;\">\n",
              "      <th></th>\n",
              "      <th>Requestid</th>\n",
              "      <th>StatusCode</th>\n",
              "      <th>ip</th>\n",
              "      <th>url</th>\n",
              "      <th>type</th>\n",
              "      <th>timestamp</th>\n",
              "      <th>tableid</th>\n",
              "      <th>fromcache</th>\n",
              "      <th>method</th>\n",
              "    </tr>\n",
              "  </thead>\n",
              "  <tbody>\n",
              "    <tr>\n",
              "      <th>22</th>\n",
              "      <td>23</td>\n",
              "      <td>200</td>\n",
              "      <td>192.168.1.23</td>\n",
              "      <td>https://example.com/faq</td>\n",
              "      <td>html</td>\n",
              "      <td>1702391659000</td>\n",
              "      <td>1419931210</td>\n",
              "      <td>True</td>\n",
              "      <td>GET</td>\n",
              "    </tr>\n",
              "    <tr>\n",
              "      <th>62</th>\n",
              "      <td>42</td>\n",
              "      <td>200</td>\n",
              "      <td>192.168.1.42</td>\n",
              "      <td>https://example.com/error</td>\n",
              "      <td>html</td>\n",
              "      <td>1702391678000</td>\n",
              "      <td>1419931216</td>\n",
              "      <td>True</td>\n",
              "      <td>GET</td>\n",
              "    </tr>\n",
              "    <tr>\n",
              "      <th>81</th>\n",
              "      <td>43</td>\n",
              "      <td>200</td>\n",
              "      <td>192.168.1.43</td>\n",
              "      <td>https://example.com/warning</td>\n",
              "      <td>html</td>\n",
              "      <td>1702391679000</td>\n",
              "      <td>1419931217</td>\n",
              "      <td>True</td>\n",
              "      <td>GET</td>\n",
              "    </tr>\n",
              "    <tr>\n",
              "      <th>5</th>\n",
              "      <td>6</td>\n",
              "      <td>500</td>\n",
              "      <td>192.168.1.6</td>\n",
              "      <td>https://example.com/server-error</td>\n",
              "      <td>html</td>\n",
              "      <td>1702391642000</td>\n",
              "      <td>1419931204</td>\n",
              "      <td>False</td>\n",
              "      <td>GET</td>\n",
              "    </tr>\n",
              "    <tr>\n",
              "      <th>102</th>\n",
              "      <td>7</td>\n",
              "      <td>200</td>\n",
              "      <td>192.168.1.7</td>\n",
              "      <td>https://example.com/success</td>\n",
              "      <td>html</td>\n",
              "      <td>1702391643000</td>\n",
              "      <td>1419931205</td>\n",
              "      <td>True</td>\n",
              "      <td>POST</td>\n",
              "    </tr>\n",
              "    <tr>\n",
              "      <th>...</th>\n",
              "      <td>...</td>\n",
              "      <td>...</td>\n",
              "      <td>...</td>\n",
              "      <td>...</td>\n",
              "      <td>...</td>\n",
              "      <td>...</td>\n",
              "      <td>...</td>\n",
              "      <td>...</td>\n",
              "      <td>...</td>\n",
              "    </tr>\n",
              "    <tr>\n",
              "      <th>87</th>\n",
              "      <td>43</td>\n",
              "      <td>200</td>\n",
              "      <td>192.168.1.43</td>\n",
              "      <td>https://example.com/warning</td>\n",
              "      <td>html</td>\n",
              "      <td>1702391679000</td>\n",
              "      <td>1419931217</td>\n",
              "      <td>True</td>\n",
              "      <td>GET</td>\n",
              "    </tr>\n",
              "    <tr>\n",
              "      <th>103</th>\n",
              "      <td>8</td>\n",
              "      <td>403</td>\n",
              "      <td>192.168.1.8</td>\n",
              "      <td>https://example.com/forbidden</td>\n",
              "      <td>html</td>\n",
              "      <td>1702391644000</td>\n",
              "      <td>1419931205</td>\n",
              "      <td>False</td>\n",
              "      <td>GET</td>\n",
              "    </tr>\n",
              "    <tr>\n",
              "      <th>67</th>\n",
              "      <td>43</td>\n",
              "      <td>200</td>\n",
              "      <td>192.168.1.43</td>\n",
              "      <td>https://example.com/warning</td>\n",
              "      <td>html</td>\n",
              "      <td>1702391679000</td>\n",
              "      <td>1419931217</td>\n",
              "      <td>True</td>\n",
              "      <td>GET</td>\n",
              "    </tr>\n",
              "    <tr>\n",
              "      <th>24</th>\n",
              "      <td>50</td>\n",
              "      <td>200</td>\n",
              "      <td>192.168.1.50</td>\n",
              "      <td>https://example.com/download</td>\n",
              "      <td>html</td>\n",
              "      <td>1702391686000</td>\n",
              "      <td>1419931219</td>\n",
              "      <td>True</td>\n",
              "      <td>GET</td>\n",
              "    </tr>\n",
              "    <tr>\n",
              "      <th>8</th>\n",
              "      <td>9</td>\n",
              "      <td>200</td>\n",
              "      <td>192.168.1.9</td>\n",
              "      <td>https://example.com/data.json</td>\n",
              "      <td>json</td>\n",
              "      <td>1702391645000</td>\n",
              "      <td>1419931205</td>\n",
              "      <td>True</td>\n",
              "      <td>GET</td>\n",
              "    </tr>\n",
              "  </tbody>\n",
              "</table>\n",
              "<p>92 rows × 9 columns</p>\n",
              "</div>"
            ],
            "text/plain": [
              "     Requestid  StatusCode            ip                               url  \\\n",
              "22          23         200  192.168.1.23           https://example.com/faq   \n",
              "62          42         200  192.168.1.42         https://example.com/error   \n",
              "81          43         200  192.168.1.43       https://example.com/warning   \n",
              "5            6         500   192.168.1.6  https://example.com/server-error   \n",
              "102          7         200   192.168.1.7       https://example.com/success   \n",
              "..         ...         ...           ...                               ...   \n",
              "87          43         200  192.168.1.43       https://example.com/warning   \n",
              "103          8         403   192.168.1.8     https://example.com/forbidden   \n",
              "67          43         200  192.168.1.43       https://example.com/warning   \n",
              "24          50         200  192.168.1.50      https://example.com/download   \n",
              "8            9         200   192.168.1.9     https://example.com/data.json   \n",
              "\n",
              "     type      timestamp     tableid  fromcache method  \n",
              "22   html  1702391659000  1419931210       True    GET  \n",
              "62   html  1702391678000  1419931216       True    GET  \n",
              "81   html  1702391679000  1419931217       True    GET  \n",
              "5    html  1702391642000  1419931204      False    GET  \n",
              "102  html  1702391643000  1419931205       True   POST  \n",
              "..    ...            ...         ...        ...    ...  \n",
              "87   html  1702391679000  1419931217       True    GET  \n",
              "103  html  1702391644000  1419931205      False    GET  \n",
              "67   html  1702391679000  1419931217       True    GET  \n",
              "24   html  1702391686000  1419931219       True    GET  \n",
              "8    json  1702391645000  1419931205       True    GET  \n",
              "\n",
              "[92 rows x 9 columns]"
            ]
          },
          "execution_count": 8,
          "metadata": {},
          "output_type": "execute_result"
        }
      ],
      "source": [
        "X_train"
      ]
    },
    {
      "cell_type": "code",
      "execution_count": 9,
      "metadata": {
        "colab": {
          "base_uri": "https://localhost:8080/",
          "height": 424
        },
        "id": "0E3gw5T0-7Dp",
        "outputId": "cfaafbf8-faaf-4c3e-89ed-2bbe2e0ba2dd"
      },
      "outputs": [
        {
          "data": {
            "text/html": [
              "<div>\n",
              "<style scoped>\n",
              "    .dataframe tbody tr th:only-of-type {\n",
              "        vertical-align: middle;\n",
              "    }\n",
              "\n",
              "    .dataframe tbody tr th {\n",
              "        vertical-align: top;\n",
              "    }\n",
              "\n",
              "    .dataframe thead th {\n",
              "        text-align: right;\n",
              "    }\n",
              "</style>\n",
              "<table border=\"1\" class=\"dataframe\">\n",
              "  <thead>\n",
              "    <tr style=\"text-align: right;\">\n",
              "      <th></th>\n",
              "      <th>Requestid</th>\n",
              "      <th>StatusCode</th>\n",
              "      <th>ip</th>\n",
              "      <th>url</th>\n",
              "      <th>type</th>\n",
              "      <th>timestamp</th>\n",
              "      <th>tableid</th>\n",
              "      <th>fromcache</th>\n",
              "      <th>method</th>\n",
              "    </tr>\n",
              "  </thead>\n",
              "  <tbody>\n",
              "    <tr>\n",
              "      <th>88</th>\n",
              "      <td>49</td>\n",
              "      <td>200</td>\n",
              "      <td>192.168.1.49</td>\n",
              "      <td>https://example.com/receipt</td>\n",
              "      <td>html</td>\n",
              "      <td>1702391685000</td>\n",
              "      <td>1419931219</td>\n",
              "      <td>True</td>\n",
              "      <td>GET</td>\n",
              "    </tr>\n",
              "    <tr>\n",
              "      <th>80</th>\n",
              "      <td>42</td>\n",
              "      <td>200</td>\n",
              "      <td>192.168.1.42</td>\n",
              "      <td>https://example.com/error</td>\n",
              "      <td>html</td>\n",
              "      <td>1702391678000</td>\n",
              "      <td>1419931216</td>\n",
              "      <td>True</td>\n",
              "      <td>GET</td>\n",
              "    </tr>\n",
              "    <tr>\n",
              "      <th>50</th>\n",
              "      <td>42</td>\n",
              "      <td>200</td>\n",
              "      <td>192.168.1.42</td>\n",
              "      <td>https://example.com/error</td>\n",
              "      <td>html</td>\n",
              "      <td>1702391678000</td>\n",
              "      <td>1419931216</td>\n",
              "      <td>True</td>\n",
              "      <td>GET</td>\n",
              "    </tr>\n",
              "    <tr>\n",
              "      <th>28</th>\n",
              "      <td>43</td>\n",
              "      <td>200</td>\n",
              "      <td>192.168.1.43</td>\n",
              "      <td>https://example.com/warning</td>\n",
              "      <td>html</td>\n",
              "      <td>1702391679000</td>\n",
              "      <td>1419931217</td>\n",
              "      <td>True</td>\n",
              "      <td>GET</td>\n",
              "    </tr>\n",
              "    <tr>\n",
              "      <th>95</th>\n",
              "      <td>50</td>\n",
              "      <td>200</td>\n",
              "      <td>192.168.1.50</td>\n",
              "      <td>https://example.com/download</td>\n",
              "      <td>html</td>\n",
              "      <td>1702391686000</td>\n",
              "      <td>1419931219</td>\n",
              "      <td>True</td>\n",
              "      <td>GET</td>\n",
              "    </tr>\n",
              "    <tr>\n",
              "      <th>74</th>\n",
              "      <td>42</td>\n",
              "      <td>200</td>\n",
              "      <td>192.168.1.42</td>\n",
              "      <td>https://example.com/error</td>\n",
              "      <td>html</td>\n",
              "      <td>1702391678000</td>\n",
              "      <td>1419931216</td>\n",
              "      <td>True</td>\n",
              "      <td>GET</td>\n",
              "    </tr>\n",
              "    <tr>\n",
              "      <th>26</th>\n",
              "      <td>43</td>\n",
              "      <td>200</td>\n",
              "      <td>192.168.1.43</td>\n",
              "      <td>https://example.com/warning</td>\n",
              "      <td>html</td>\n",
              "      <td>1702391679000</td>\n",
              "      <td>1419931217</td>\n",
              "      <td>True</td>\n",
              "      <td>GET</td>\n",
              "    </tr>\n",
              "    <tr>\n",
              "      <th>32</th>\n",
              "      <td>35</td>\n",
              "      <td>200</td>\n",
              "      <td>192.168.1.35</td>\n",
              "      <td>https://example.com/cart</td>\n",
              "      <td>html</td>\n",
              "      <td>1702391671000</td>\n",
              "      <td>1419931214</td>\n",
              "      <td>True</td>\n",
              "      <td>GET</td>\n",
              "    </tr>\n",
              "    <tr>\n",
              "      <th>33</th>\n",
              "      <td>36</td>\n",
              "      <td>200</td>\n",
              "      <td>192.168.1.36</td>\n",
              "      <td>https://example.com/checkout</td>\n",
              "      <td>html</td>\n",
              "      <td>1702391672000</td>\n",
              "      <td>1419931214</td>\n",
              "      <td>True</td>\n",
              "      <td>GET</td>\n",
              "    </tr>\n",
              "    <tr>\n",
              "      <th>25</th>\n",
              "      <td>42</td>\n",
              "      <td>200</td>\n",
              "      <td>192.168.1.42</td>\n",
              "      <td>https://example.com/error</td>\n",
              "      <td>html</td>\n",
              "      <td>1702391678000</td>\n",
              "      <td>1419931216</td>\n",
              "      <td>True</td>\n",
              "      <td>GET</td>\n",
              "    </tr>\n",
              "    <tr>\n",
              "      <th>77</th>\n",
              "      <td>50</td>\n",
              "      <td>200</td>\n",
              "      <td>192.168.1.50</td>\n",
              "      <td>https://example.com/download</td>\n",
              "      <td>html</td>\n",
              "      <td>1702391686000</td>\n",
              "      <td>1419931219</td>\n",
              "      <td>True</td>\n",
              "      <td>GET</td>\n",
              "    </tr>\n",
              "    <tr>\n",
              "      <th>51</th>\n",
              "      <td>43</td>\n",
              "      <td>200</td>\n",
              "      <td>192.168.1.43</td>\n",
              "      <td>https://example.com/warning</td>\n",
              "      <td>html</td>\n",
              "      <td>1702391679000</td>\n",
              "      <td>1419931217</td>\n",
              "      <td>True</td>\n",
              "      <td>GET</td>\n",
              "    </tr>\n",
              "    <tr>\n",
              "      <th>43</th>\n",
              "      <td>46</td>\n",
              "      <td>200</td>\n",
              "      <td>192.168.1.46</td>\n",
              "      <td>https://example.com/alert</td>\n",
              "      <td>html</td>\n",
              "      <td>1702391682000</td>\n",
              "      <td>1419931218</td>\n",
              "      <td>True</td>\n",
              "      <td>GET</td>\n",
              "    </tr>\n",
              "    <tr>\n",
              "      <th>35</th>\n",
              "      <td>38</td>\n",
              "      <td>200</td>\n",
              "      <td>192.168.1.38</td>\n",
              "      <td>https://example.com/shipping</td>\n",
              "      <td>html</td>\n",
              "      <td>1702391674000</td>\n",
              "      <td>1419931215</td>\n",
              "      <td>True</td>\n",
              "      <td>GET</td>\n",
              "    </tr>\n",
              "    <tr>\n",
              "      <th>101</th>\n",
              "      <td>6</td>\n",
              "      <td>500</td>\n",
              "      <td>192.168.1.6</td>\n",
              "      <td>https://example.com/server-error</td>\n",
              "      <td>html</td>\n",
              "      <td>1702391642000</td>\n",
              "      <td>1419931204</td>\n",
              "      <td>False</td>\n",
              "      <td>GET</td>\n",
              "    </tr>\n",
              "    <tr>\n",
              "      <th>21</th>\n",
              "      <td>22</td>\n",
              "      <td>403</td>\n",
              "      <td>192.168.1.22</td>\n",
              "      <td>https://example.com/permission-denied</td>\n",
              "      <td>html</td>\n",
              "      <td>1702391658000</td>\n",
              "      <td>1419931210</td>\n",
              "      <td>False</td>\n",
              "      <td>GET</td>\n",
              "    </tr>\n",
              "    <tr>\n",
              "      <th>110</th>\n",
              "      <td>5</td>\n",
              "      <td>200</td>\n",
              "      <td>192.168.1.5</td>\n",
              "      <td>https://example.com/style.css</td>\n",
              "      <td>css</td>\n",
              "      <td>1702391641000</td>\n",
              "      <td>1419931204</td>\n",
              "      <td>True</td>\n",
              "      <td>GET</td>\n",
              "    </tr>\n",
              "    <tr>\n",
              "      <th>78</th>\n",
              "      <td>42</td>\n",
              "      <td>200</td>\n",
              "      <td>192.168.1.42</td>\n",
              "      <td>https://example.com/error</td>\n",
              "      <td>html</td>\n",
              "      <td>1702391678000</td>\n",
              "      <td>1419931216</td>\n",
              "      <td>True</td>\n",
              "      <td>GET</td>\n",
              "    </tr>\n",
              "    <tr>\n",
              "      <th>41</th>\n",
              "      <td>44</td>\n",
              "      <td>200</td>\n",
              "      <td>192.168.1.44</td>\n",
              "      <td>https://example.com/announcement</td>\n",
              "      <td>html</td>\n",
              "      <td>1702391680000</td>\n",
              "      <td>1419931217</td>\n",
              "      <td>True</td>\n",
              "      <td>GET</td>\n",
              "    </tr>\n",
              "    <tr>\n",
              "      <th>96</th>\n",
              "      <td>42</td>\n",
              "      <td>200</td>\n",
              "      <td>192.168.1.42</td>\n",
              "      <td>https://example.com/error</td>\n",
              "      <td>html</td>\n",
              "      <td>1702391678000</td>\n",
              "      <td>1419931216</td>\n",
              "      <td>True</td>\n",
              "      <td>GET</td>\n",
              "    </tr>\n",
              "    <tr>\n",
              "      <th>29</th>\n",
              "      <td>32</td>\n",
              "      <td>200</td>\n",
              "      <td>192.168.1.32</td>\n",
              "      <td>https://example.com/profile</td>\n",
              "      <td>html</td>\n",
              "      <td>1702391668000</td>\n",
              "      <td>1419931213</td>\n",
              "      <td>True</td>\n",
              "      <td>GET</td>\n",
              "    </tr>\n",
              "    <tr>\n",
              "      <th>57</th>\n",
              "      <td>43</td>\n",
              "      <td>200</td>\n",
              "      <td>192.168.1.43</td>\n",
              "      <td>https://example.com/warning</td>\n",
              "      <td>html</td>\n",
              "      <td>1702391679000</td>\n",
              "      <td>1419931217</td>\n",
              "      <td>True</td>\n",
              "      <td>GET</td>\n",
              "    </tr>\n",
              "    <tr>\n",
              "      <th>73</th>\n",
              "      <td>43</td>\n",
              "      <td>200</td>\n",
              "      <td>192.168.1.43</td>\n",
              "      <td>https://example.com/warning</td>\n",
              "      <td>html</td>\n",
              "      <td>1702391679000</td>\n",
              "      <td>1419931217</td>\n",
              "      <td>True</td>\n",
              "      <td>GET</td>\n",
              "    </tr>\n",
              "  </tbody>\n",
              "</table>\n",
              "</div>"
            ],
            "text/plain": [
              "     Requestid  StatusCode            ip  \\\n",
              "88          49         200  192.168.1.49   \n",
              "80          42         200  192.168.1.42   \n",
              "50          42         200  192.168.1.42   \n",
              "28          43         200  192.168.1.43   \n",
              "95          50         200  192.168.1.50   \n",
              "74          42         200  192.168.1.42   \n",
              "26          43         200  192.168.1.43   \n",
              "32          35         200  192.168.1.35   \n",
              "33          36         200  192.168.1.36   \n",
              "25          42         200  192.168.1.42   \n",
              "77          50         200  192.168.1.50   \n",
              "51          43         200  192.168.1.43   \n",
              "43          46         200  192.168.1.46   \n",
              "35          38         200  192.168.1.38   \n",
              "101          6         500   192.168.1.6   \n",
              "21          22         403  192.168.1.22   \n",
              "110          5         200   192.168.1.5   \n",
              "78          42         200  192.168.1.42   \n",
              "41          44         200  192.168.1.44   \n",
              "96          42         200  192.168.1.42   \n",
              "29          32         200  192.168.1.32   \n",
              "57          43         200  192.168.1.43   \n",
              "73          43         200  192.168.1.43   \n",
              "\n",
              "                                       url  type      timestamp     tableid  \\\n",
              "88             https://example.com/receipt  html  1702391685000  1419931219   \n",
              "80               https://example.com/error  html  1702391678000  1419931216   \n",
              "50               https://example.com/error  html  1702391678000  1419931216   \n",
              "28             https://example.com/warning  html  1702391679000  1419931217   \n",
              "95            https://example.com/download  html  1702391686000  1419931219   \n",
              "74               https://example.com/error  html  1702391678000  1419931216   \n",
              "26             https://example.com/warning  html  1702391679000  1419931217   \n",
              "32                https://example.com/cart  html  1702391671000  1419931214   \n",
              "33            https://example.com/checkout  html  1702391672000  1419931214   \n",
              "25               https://example.com/error  html  1702391678000  1419931216   \n",
              "77            https://example.com/download  html  1702391686000  1419931219   \n",
              "51             https://example.com/warning  html  1702391679000  1419931217   \n",
              "43               https://example.com/alert  html  1702391682000  1419931218   \n",
              "35            https://example.com/shipping  html  1702391674000  1419931215   \n",
              "101       https://example.com/server-error  html  1702391642000  1419931204   \n",
              "21   https://example.com/permission-denied  html  1702391658000  1419931210   \n",
              "110          https://example.com/style.css   css  1702391641000  1419931204   \n",
              "78               https://example.com/error  html  1702391678000  1419931216   \n",
              "41        https://example.com/announcement  html  1702391680000  1419931217   \n",
              "96               https://example.com/error  html  1702391678000  1419931216   \n",
              "29             https://example.com/profile  html  1702391668000  1419931213   \n",
              "57             https://example.com/warning  html  1702391679000  1419931217   \n",
              "73             https://example.com/warning  html  1702391679000  1419931217   \n",
              "\n",
              "     fromcache method  \n",
              "88        True    GET  \n",
              "80        True    GET  \n",
              "50        True    GET  \n",
              "28        True    GET  \n",
              "95        True    GET  \n",
              "74        True    GET  \n",
              "26        True    GET  \n",
              "32        True    GET  \n",
              "33        True    GET  \n",
              "25        True    GET  \n",
              "77        True    GET  \n",
              "51        True    GET  \n",
              "43        True    GET  \n",
              "35        True    GET  \n",
              "101      False    GET  \n",
              "21       False    GET  \n",
              "110       True    GET  \n",
              "78        True    GET  \n",
              "41        True    GET  \n",
              "96        True    GET  \n",
              "29        True    GET  \n",
              "57        True    GET  \n",
              "73        True    GET  "
            ]
          },
          "execution_count": 9,
          "metadata": {},
          "output_type": "execute_result"
        }
      ],
      "source": [
        "X_test"
      ]
    },
    {
      "cell_type": "code",
      "execution_count": 10,
      "metadata": {},
      "outputs": [],
      "source": [
        "# Encoding categorical variables\n",
        "encoder = LabelEncoder()\n",
        "df['ip'] = encoder.fit_transform(df['ip'])\n",
        "df['url'] = encoder.fit_transform(df['url'])\n",
        "df['type'] = encoder.fit_transform(df['type'])\n",
        "df['method'] = encoder.fit_transform(df['method'])\n",
        "df['target'] = encoder.fit_transform(df['target'])\n",
        "\n",
        "# Clean the dataset, replacing 'undefined' with NaN and dropping NaN values\n",
        "df_clean = df.replace('undefined', pd.NA).dropna().reset_index(drop=True)\n",
        "\n"
      ]
    },
    {
      "cell_type": "markdown",
      "metadata": {
        "id": "K7e6T8g8Afap"
      },
      "source": [
        "# **Model Building**"
      ]
    },
    {
      "cell_type": "markdown",
      "metadata": {
        "id": "5woH2891AlRZ"
      },
      "source": [
        "## **Linear Regression**"
      ]
    },
    {
      "cell_type": "markdown",
      "metadata": {
        "id": "ZHJF5xg_BZoP"
      },
      "source": [
        "### **Training the model**"
      ]
    },
    {
      "cell_type": "code",
      "execution_count": 11,
      "metadata": {},
      "outputs": [
        {
          "data": {
            "text/html": [
              "<style>#sk-container-id-1 {color: black;}#sk-container-id-1 pre{padding: 0;}#sk-container-id-1 div.sk-toggleable {background-color: white;}#sk-container-id-1 label.sk-toggleable__label {cursor: pointer;display: block;width: 100%;margin-bottom: 0;padding: 0.3em;box-sizing: border-box;text-align: center;}#sk-container-id-1 label.sk-toggleable__label-arrow:before {content: \"▸\";float: left;margin-right: 0.25em;color: #696969;}#sk-container-id-1 label.sk-toggleable__label-arrow:hover:before {color: black;}#sk-container-id-1 div.sk-estimator:hover label.sk-toggleable__label-arrow:before {color: black;}#sk-container-id-1 div.sk-toggleable__content {max-height: 0;max-width: 0;overflow: hidden;text-align: left;background-color: #f0f8ff;}#sk-container-id-1 div.sk-toggleable__content pre {margin: 0.2em;color: black;border-radius: 0.25em;background-color: #f0f8ff;}#sk-container-id-1 input.sk-toggleable__control:checked~div.sk-toggleable__content {max-height: 200px;max-width: 100%;overflow: auto;}#sk-container-id-1 input.sk-toggleable__control:checked~label.sk-toggleable__label-arrow:before {content: \"▾\";}#sk-container-id-1 div.sk-estimator input.sk-toggleable__control:checked~label.sk-toggleable__label {background-color: #d4ebff;}#sk-container-id-1 div.sk-label input.sk-toggleable__control:checked~label.sk-toggleable__label {background-color: #d4ebff;}#sk-container-id-1 input.sk-hidden--visually {border: 0;clip: rect(1px 1px 1px 1px);clip: rect(1px, 1px, 1px, 1px);height: 1px;margin: -1px;overflow: hidden;padding: 0;position: absolute;width: 1px;}#sk-container-id-1 div.sk-estimator {font-family: monospace;background-color: #f0f8ff;border: 1px dotted black;border-radius: 0.25em;box-sizing: border-box;margin-bottom: 0.5em;}#sk-container-id-1 div.sk-estimator:hover {background-color: #d4ebff;}#sk-container-id-1 div.sk-parallel-item::after {content: \"\";width: 100%;border-bottom: 1px solid gray;flex-grow: 1;}#sk-container-id-1 div.sk-label:hover label.sk-toggleable__label {background-color: #d4ebff;}#sk-container-id-1 div.sk-serial::before {content: \"\";position: absolute;border-left: 1px solid gray;box-sizing: border-box;top: 0;bottom: 0;left: 50%;z-index: 0;}#sk-container-id-1 div.sk-serial {display: flex;flex-direction: column;align-items: center;background-color: white;padding-right: 0.2em;padding-left: 0.2em;position: relative;}#sk-container-id-1 div.sk-item {position: relative;z-index: 1;}#sk-container-id-1 div.sk-parallel {display: flex;align-items: stretch;justify-content: center;background-color: white;position: relative;}#sk-container-id-1 div.sk-item::before, #sk-container-id-1 div.sk-parallel-item::before {content: \"\";position: absolute;border-left: 1px solid gray;box-sizing: border-box;top: 0;bottom: 0;left: 50%;z-index: -1;}#sk-container-id-1 div.sk-parallel-item {display: flex;flex-direction: column;z-index: 1;position: relative;background-color: white;}#sk-container-id-1 div.sk-parallel-item:first-child::after {align-self: flex-end;width: 50%;}#sk-container-id-1 div.sk-parallel-item:last-child::after {align-self: flex-start;width: 50%;}#sk-container-id-1 div.sk-parallel-item:only-child::after {width: 0;}#sk-container-id-1 div.sk-dashed-wrapped {border: 1px dashed gray;margin: 0 0.4em 0.5em 0.4em;box-sizing: border-box;padding-bottom: 0.4em;background-color: white;}#sk-container-id-1 div.sk-label label {font-family: monospace;font-weight: bold;display: inline-block;line-height: 1.2em;}#sk-container-id-1 div.sk-label-container {text-align: center;}#sk-container-id-1 div.sk-container {/* jupyter's `normalize.less` sets `[hidden] { display: none; }` but bootstrap.min.css set `[hidden] { display: none !important; }` so we also need the `!important` here to be able to override the default hidden behavior on the sphinx rendered scikit-learn.org. See: https://github.com/scikit-learn/scikit-learn/issues/21755 */display: inline-block !important;position: relative;}#sk-container-id-1 div.sk-text-repr-fallback {display: none;}</style><div id=\"sk-container-id-1\" class=\"sk-top-container\"><div class=\"sk-text-repr-fallback\"><pre>LinearRegression()</pre><b>In a Jupyter environment, please rerun this cell to show the HTML representation or trust the notebook. <br />On GitHub, the HTML representation is unable to render, please try loading this page with nbviewer.org.</b></div><div class=\"sk-container\" hidden><div class=\"sk-item\"><div class=\"sk-estimator sk-toggleable\"><input class=\"sk-toggleable__control sk-hidden--visually\" id=\"sk-estimator-id-1\" type=\"checkbox\" checked><label for=\"sk-estimator-id-1\" class=\"sk-toggleable__label sk-toggleable__label-arrow\">LinearRegression</label><div class=\"sk-toggleable__content\"><pre>LinearRegression()</pre></div></div></div></div></div>"
            ],
            "text/plain": [
              "LinearRegression()"
            ]
          },
          "execution_count": 11,
          "metadata": {},
          "output_type": "execute_result"
        }
      ],
      "source": [
        "encoder = LabelEncoder()\n",
        "df['ip'] = encoder.fit_transform(df['ip'])\n",
        "df['type'] = encoder.fit_transform(df['type'])\n",
        "df['method'] = encoder.fit_transform(df['method'])\n",
        "df['target'] = encoder.fit_transform(df['target'])  # Encoding the target for regression\n",
        "\n",
        "# Splitting the data into features and target variable\n",
        "X = df.drop('target', axis=1)\n",
        "y = df['target']\n",
        "\n",
        "# Splitting the data into training and testing sets\n",
        "X_train, X_test, y_train, y_test = train_test_split(X, y, test_size=0.2, random_state=42)\n",
        "\n",
        "# Creating and training the LinearRegression model\n",
        "linear_reg = LinearRegression()\n",
        "linear_reg.fit(X_train, y_train)\n"
      ]
    },
    {
      "cell_type": "code",
      "execution_count": 12,
      "metadata": {},
      "outputs": [
        {
          "name": "stdout",
          "output_type": "stream",
          "text": [
            "Accuracy of the Linear Regression model: 0.16504004843748699\n"
          ]
        }
      ],
      "source": [
        "# Evaluating the model\n",
        "accuracy = linear_reg.score(X_test, y_test)\n",
        "print(f\"Accuracy of the Linear Regression model: {accuracy}\")"
      ]
    },
    {
      "cell_type": "code",
      "execution_count": 13,
      "metadata": {
        "colab": {
          "base_uri": "https://localhost:8080/"
        },
        "id": "wytJG7HN-9im",
        "outputId": "c3f72227-081f-4b99-934d-bf14706ea0da"
      },
      "outputs": [
        {
          "data": {
            "text/html": [
              "<style>#sk-container-id-2 {color: black;}#sk-container-id-2 pre{padding: 0;}#sk-container-id-2 div.sk-toggleable {background-color: white;}#sk-container-id-2 label.sk-toggleable__label {cursor: pointer;display: block;width: 100%;margin-bottom: 0;padding: 0.3em;box-sizing: border-box;text-align: center;}#sk-container-id-2 label.sk-toggleable__label-arrow:before {content: \"▸\";float: left;margin-right: 0.25em;color: #696969;}#sk-container-id-2 label.sk-toggleable__label-arrow:hover:before {color: black;}#sk-container-id-2 div.sk-estimator:hover label.sk-toggleable__label-arrow:before {color: black;}#sk-container-id-2 div.sk-toggleable__content {max-height: 0;max-width: 0;overflow: hidden;text-align: left;background-color: #f0f8ff;}#sk-container-id-2 div.sk-toggleable__content pre {margin: 0.2em;color: black;border-radius: 0.25em;background-color: #f0f8ff;}#sk-container-id-2 input.sk-toggleable__control:checked~div.sk-toggleable__content {max-height: 200px;max-width: 100%;overflow: auto;}#sk-container-id-2 input.sk-toggleable__control:checked~label.sk-toggleable__label-arrow:before {content: \"▾\";}#sk-container-id-2 div.sk-estimator input.sk-toggleable__control:checked~label.sk-toggleable__label {background-color: #d4ebff;}#sk-container-id-2 div.sk-label input.sk-toggleable__control:checked~label.sk-toggleable__label {background-color: #d4ebff;}#sk-container-id-2 input.sk-hidden--visually {border: 0;clip: rect(1px 1px 1px 1px);clip: rect(1px, 1px, 1px, 1px);height: 1px;margin: -1px;overflow: hidden;padding: 0;position: absolute;width: 1px;}#sk-container-id-2 div.sk-estimator {font-family: monospace;background-color: #f0f8ff;border: 1px dotted black;border-radius: 0.25em;box-sizing: border-box;margin-bottom: 0.5em;}#sk-container-id-2 div.sk-estimator:hover {background-color: #d4ebff;}#sk-container-id-2 div.sk-parallel-item::after {content: \"\";width: 100%;border-bottom: 1px solid gray;flex-grow: 1;}#sk-container-id-2 div.sk-label:hover label.sk-toggleable__label {background-color: #d4ebff;}#sk-container-id-2 div.sk-serial::before {content: \"\";position: absolute;border-left: 1px solid gray;box-sizing: border-box;top: 0;bottom: 0;left: 50%;z-index: 0;}#sk-container-id-2 div.sk-serial {display: flex;flex-direction: column;align-items: center;background-color: white;padding-right: 0.2em;padding-left: 0.2em;position: relative;}#sk-container-id-2 div.sk-item {position: relative;z-index: 1;}#sk-container-id-2 div.sk-parallel {display: flex;align-items: stretch;justify-content: center;background-color: white;position: relative;}#sk-container-id-2 div.sk-item::before, #sk-container-id-2 div.sk-parallel-item::before {content: \"\";position: absolute;border-left: 1px solid gray;box-sizing: border-box;top: 0;bottom: 0;left: 50%;z-index: -1;}#sk-container-id-2 div.sk-parallel-item {display: flex;flex-direction: column;z-index: 1;position: relative;background-color: white;}#sk-container-id-2 div.sk-parallel-item:first-child::after {align-self: flex-end;width: 50%;}#sk-container-id-2 div.sk-parallel-item:last-child::after {align-self: flex-start;width: 50%;}#sk-container-id-2 div.sk-parallel-item:only-child::after {width: 0;}#sk-container-id-2 div.sk-dashed-wrapped {border: 1px dashed gray;margin: 0 0.4em 0.5em 0.4em;box-sizing: border-box;padding-bottom: 0.4em;background-color: white;}#sk-container-id-2 div.sk-label label {font-family: monospace;font-weight: bold;display: inline-block;line-height: 1.2em;}#sk-container-id-2 div.sk-label-container {text-align: center;}#sk-container-id-2 div.sk-container {/* jupyter's `normalize.less` sets `[hidden] { display: none; }` but bootstrap.min.css set `[hidden] { display: none !important; }` so we also need the `!important` here to be able to override the default hidden behavior on the sphinx rendered scikit-learn.org. See: https://github.com/scikit-learn/scikit-learn/issues/21755 */display: inline-block !important;position: relative;}#sk-container-id-2 div.sk-text-repr-fallback {display: none;}</style><div id=\"sk-container-id-2\" class=\"sk-top-container\"><div class=\"sk-text-repr-fallback\"><pre>LinearRegression()</pre><b>In a Jupyter environment, please rerun this cell to show the HTML representation or trust the notebook. <br />On GitHub, the HTML representation is unable to render, please try loading this page with nbviewer.org.</b></div><div class=\"sk-container\" hidden><div class=\"sk-item\"><div class=\"sk-estimator sk-toggleable\"><input class=\"sk-toggleable__control sk-hidden--visually\" id=\"sk-estimator-id-2\" type=\"checkbox\" checked><label for=\"sk-estimator-id-2\" class=\"sk-toggleable__label sk-toggleable__label-arrow\">LinearRegression</label><div class=\"sk-toggleable__content\"><pre>LinearRegression()</pre></div></div></div></div></div>"
            ],
            "text/plain": [
              "LinearRegression()"
            ]
          },
          "execution_count": 13,
          "metadata": {},
          "output_type": "execute_result"
        }
      ],
      "source": [
        "from sklearn.linear_model import LinearRegression\n",
        "\n",
        "lr = LinearRegression()\n",
        "lr.fit(X_train, y_train)"
      ]
    },
    {
      "cell_type": "markdown",
      "metadata": {
        "id": "_PVoZXs5BdM3"
      },
      "source": [
        "### **Applying the model to make a prediction**"
      ]
    },
    {
      "cell_type": "code",
      "execution_count": 14,
      "metadata": {
        "id": "d75s1FiaBRo6"
      },
      "outputs": [],
      "source": [
        "y_lr_train_pred = lr.predict(X_train)\n",
        "y_lr_test_pred = lr.predict(X_test)"
      ]
    },
    {
      "cell_type": "code",
      "execution_count": 15,
      "metadata": {
        "colab": {
          "base_uri": "https://localhost:8080/"
        },
        "id": "tEsmABQuB615",
        "outputId": "0bad2bb1-a420-4418-a431-883f615d42da"
      },
      "outputs": [
        {
          "data": {
            "text/plain": [
              "array([-3.62581611e-02,  6.08720362e-01,  6.08720362e-01,  6.23377562e-02,\n",
              "        1.55486882e-01,  4.33322310e-01,  5.36911249e-01,  5.75518847e-01,\n",
              "        1.32151604e-01,  7.12419927e-01,  5.16696095e-01, -2.50005126e-01,\n",
              "        4.10016954e-01,  5.75518847e-01,  5.16696095e-01,  6.08720362e-01,\n",
              "        7.21735358e-01,  1.14879751e+00,  6.08720362e-01,  5.55075407e-01,\n",
              "        5.75518847e-01,  6.34311795e-01,  2.33521163e-01,  2.56232381e-01,\n",
              "        3.15041423e-01,  5.75518847e-01,  5.36911249e-01,  1.52505040e-01,\n",
              "        5.75518847e-01,  6.23377562e-02,  5.75518847e-01,  9.59613144e-01,\n",
              "        6.08720362e-01,  5.75518847e-01,  5.75518847e-01,  6.23377562e-02,\n",
              "        6.08720362e-01,  6.08720362e-01,  6.39942348e-01,  5.75518847e-01,\n",
              "        5.16696095e-01, -2.42470741e-01,  1.29807472e-01,  7.30503261e-01,\n",
              "        5.55075407e-01, -1.19209290e-07,  6.08720362e-01,  5.75518847e-01,\n",
              "        5.75518847e-01,  5.75518847e-01,  5.75518847e-01,  5.55075407e-01,\n",
              "        5.55075407e-01,  5.16696095e-01,  6.08720362e-01,  1.14879751e+00,\n",
              "        6.08720362e-01,  5.16696095e-01,  2.99923599e-01,  5.55075407e-01,\n",
              "        5.75518847e-01,  6.08720362e-01,  6.08720362e-01,  6.08720362e-01,\n",
              "        2.18923688e-01, -1.19209290e-07,  5.16696095e-01,  6.08720362e-01,\n",
              "        5.16696095e-01,  1.54879093e-01,  4.57238197e-01,  1.14879751e+00,\n",
              "       -1.03422105e-01,  5.55075407e-01,  6.55351758e-01,  5.39167523e-01,\n",
              "        5.55075407e-01,  6.08720362e-01,  6.08720362e-01,  5.36911249e-01,\n",
              "        5.75518847e-01,  5.75518847e-01,  5.55075407e-01,  6.23377562e-02,\n",
              "        5.97712219e-01,  5.75518847e-01,  5.16696095e-01,  1.14879751e+00,\n",
              "        3.55304241e-01,  5.75518847e-01,  6.08720362e-01, -1.19209290e-07])"
            ]
          },
          "execution_count": 15,
          "metadata": {},
          "output_type": "execute_result"
        }
      ],
      "source": [
        "y_lr_train_pred"
      ]
    },
    {
      "cell_type": "code",
      "execution_count": 16,
      "metadata": {
        "colab": {
          "base_uri": "https://localhost:8080/"
        },
        "id": "S0ODinTOB-8H",
        "outputId": "a9c62e37-7a65-4243-a30f-398827fb55e4"
      },
      "outputs": [
        {
          "data": {
            "text/plain": [
              "array([ 6.08720362e-01,  2.56232381e-01,  6.08720362e-01,  6.08720362e-01,\n",
              "       -2.12724090e-01,  7.39774942e-01,  5.55075407e-01,  5.75518847e-01,\n",
              "        5.16696095e-01,  6.27290964e-01,  2.56232381e-01,  6.45957351e-01,\n",
              "        5.75518847e-01,  5.36911249e-01, -1.95886731e-01,  3.35387230e-01,\n",
              "        5.75518847e-01,  6.08720362e-01,  2.56232381e-01,  5.16696095e-01,\n",
              "        5.55075407e-01, -1.19209290e-07, -2.96054125e-01])"
            ]
          },
          "execution_count": 16,
          "metadata": {},
          "output_type": "execute_result"
        }
      ],
      "source": [
        "y_lr_test_pred"
      ]
    },
    {
      "cell_type": "markdown",
      "metadata": {
        "id": "zpvSzhtzCOEW"
      },
      "source": [
        "### **Evaluate model performance**"
      ]
    },
    {
      "cell_type": "code",
      "execution_count": 17,
      "metadata": {
        "id": "LQ7o2RBbCm-c"
      },
      "outputs": [],
      "source": [
        "from sklearn.metrics import mean_squared_error, r2_score\n",
        "\n",
        "lr_train_mse = mean_squared_error(y_train, y_lr_train_pred)\n",
        "lr_train_r2 = r2_score(y_train, y_lr_train_pred)\n",
        "\n",
        "lr_test_mse = mean_squared_error(y_test, y_lr_test_pred)\n",
        "lr_test_r2 = r2_score(y_test, y_lr_test_pred)"
      ]
    },
    {
      "cell_type": "code",
      "execution_count": 18,
      "metadata": {
        "colab": {
          "base_uri": "https://localhost:8080/"
        },
        "id": "HindUkvEDI52",
        "outputId": "cf68fa83-54a8-4feb-a7b9-dc200bedbcb2"
      },
      "outputs": [
        {
          "name": "stdout",
          "output_type": "stream",
          "text": [
            "LR MSE (Train):  0.17738058502378629\n",
            "LR R2 (Train):  0.2901421883492543\n",
            "LR MSE (Test):  0.18940490394612777\n",
            "LR R2 (Test):  0.16504004843748699\n"
          ]
        }
      ],
      "source": [
        "print('LR MSE (Train): ', lr_train_mse)\n",
        "print('LR R2 (Train): ', lr_train_r2)\n",
        "print('LR MSE (Test): ', lr_test_mse)\n",
        "print('LR R2 (Test): ', lr_test_r2)"
      ]
    },
    {
      "cell_type": "code",
      "execution_count": 19,
      "metadata": {
        "id": "OgztRbiEDks_"
      },
      "outputs": [],
      "source": [
        "lr_results = pd.DataFrame(['Linear regression', lr_train_mse, lr_train_r2, lr_test_mse, lr_test_r2]).transpose()\n",
        "lr_results.columns = ['Method', 'Training MSE', 'Training R2', 'Test MSE', 'Test R2']"
      ]
    },
    {
      "cell_type": "code",
      "execution_count": 20,
      "metadata": {
        "colab": {
          "base_uri": "https://localhost:8080/",
          "height": 81
        },
        "id": "jaGG_6VHDwaH",
        "outputId": "feae1448-2f9f-4307-9e86-099793a81f2b"
      },
      "outputs": [
        {
          "data": {
            "text/html": [
              "<div>\n",
              "<style scoped>\n",
              "    .dataframe tbody tr th:only-of-type {\n",
              "        vertical-align: middle;\n",
              "    }\n",
              "\n",
              "    .dataframe tbody tr th {\n",
              "        vertical-align: top;\n",
              "    }\n",
              "\n",
              "    .dataframe thead th {\n",
              "        text-align: right;\n",
              "    }\n",
              "</style>\n",
              "<table border=\"1\" class=\"dataframe\">\n",
              "  <thead>\n",
              "    <tr style=\"text-align: right;\">\n",
              "      <th></th>\n",
              "      <th>Method</th>\n",
              "      <th>Training MSE</th>\n",
              "      <th>Training R2</th>\n",
              "      <th>Test MSE</th>\n",
              "      <th>Test R2</th>\n",
              "    </tr>\n",
              "  </thead>\n",
              "  <tbody>\n",
              "    <tr>\n",
              "      <th>0</th>\n",
              "      <td>Linear regression</td>\n",
              "      <td>0.177381</td>\n",
              "      <td>0.290142</td>\n",
              "      <td>0.189405</td>\n",
              "      <td>0.16504</td>\n",
              "    </tr>\n",
              "  </tbody>\n",
              "</table>\n",
              "</div>"
            ],
            "text/plain": [
              "              Method Training MSE Training R2  Test MSE  Test R2\n",
              "0  Linear regression     0.177381    0.290142  0.189405  0.16504"
            ]
          },
          "execution_count": 20,
          "metadata": {},
          "output_type": "execute_result"
        }
      ],
      "source": [
        "lr_results"
      ]
    },
    {
      "cell_type": "markdown",
      "metadata": {
        "id": "8CNt9k8qENOw"
      },
      "source": [
        "## **Random Forest**"
      ]
    },
    {
      "cell_type": "markdown",
      "metadata": {
        "id": "zFQXxAWAElNT"
      },
      "source": [
        "### **Training the model**"
      ]
    },
    {
      "cell_type": "code",
      "execution_count": 21,
      "metadata": {
        "colab": {
          "base_uri": "https://localhost:8080/"
        },
        "id": "6_fxutrfDxdJ",
        "outputId": "01a05a08-be91-4529-9399-9966d0d12de8"
      },
      "outputs": [
        {
          "data": {
            "text/html": [
              "<style>#sk-container-id-3 {color: black;}#sk-container-id-3 pre{padding: 0;}#sk-container-id-3 div.sk-toggleable {background-color: white;}#sk-container-id-3 label.sk-toggleable__label {cursor: pointer;display: block;width: 100%;margin-bottom: 0;padding: 0.3em;box-sizing: border-box;text-align: center;}#sk-container-id-3 label.sk-toggleable__label-arrow:before {content: \"▸\";float: left;margin-right: 0.25em;color: #696969;}#sk-container-id-3 label.sk-toggleable__label-arrow:hover:before {color: black;}#sk-container-id-3 div.sk-estimator:hover label.sk-toggleable__label-arrow:before {color: black;}#sk-container-id-3 div.sk-toggleable__content {max-height: 0;max-width: 0;overflow: hidden;text-align: left;background-color: #f0f8ff;}#sk-container-id-3 div.sk-toggleable__content pre {margin: 0.2em;color: black;border-radius: 0.25em;background-color: #f0f8ff;}#sk-container-id-3 input.sk-toggleable__control:checked~div.sk-toggleable__content {max-height: 200px;max-width: 100%;overflow: auto;}#sk-container-id-3 input.sk-toggleable__control:checked~label.sk-toggleable__label-arrow:before {content: \"▾\";}#sk-container-id-3 div.sk-estimator input.sk-toggleable__control:checked~label.sk-toggleable__label {background-color: #d4ebff;}#sk-container-id-3 div.sk-label input.sk-toggleable__control:checked~label.sk-toggleable__label {background-color: #d4ebff;}#sk-container-id-3 input.sk-hidden--visually {border: 0;clip: rect(1px 1px 1px 1px);clip: rect(1px, 1px, 1px, 1px);height: 1px;margin: -1px;overflow: hidden;padding: 0;position: absolute;width: 1px;}#sk-container-id-3 div.sk-estimator {font-family: monospace;background-color: #f0f8ff;border: 1px dotted black;border-radius: 0.25em;box-sizing: border-box;margin-bottom: 0.5em;}#sk-container-id-3 div.sk-estimator:hover {background-color: #d4ebff;}#sk-container-id-3 div.sk-parallel-item::after {content: \"\";width: 100%;border-bottom: 1px solid gray;flex-grow: 1;}#sk-container-id-3 div.sk-label:hover label.sk-toggleable__label {background-color: #d4ebff;}#sk-container-id-3 div.sk-serial::before {content: \"\";position: absolute;border-left: 1px solid gray;box-sizing: border-box;top: 0;bottom: 0;left: 50%;z-index: 0;}#sk-container-id-3 div.sk-serial {display: flex;flex-direction: column;align-items: center;background-color: white;padding-right: 0.2em;padding-left: 0.2em;position: relative;}#sk-container-id-3 div.sk-item {position: relative;z-index: 1;}#sk-container-id-3 div.sk-parallel {display: flex;align-items: stretch;justify-content: center;background-color: white;position: relative;}#sk-container-id-3 div.sk-item::before, #sk-container-id-3 div.sk-parallel-item::before {content: \"\";position: absolute;border-left: 1px solid gray;box-sizing: border-box;top: 0;bottom: 0;left: 50%;z-index: -1;}#sk-container-id-3 div.sk-parallel-item {display: flex;flex-direction: column;z-index: 1;position: relative;background-color: white;}#sk-container-id-3 div.sk-parallel-item:first-child::after {align-self: flex-end;width: 50%;}#sk-container-id-3 div.sk-parallel-item:last-child::after {align-self: flex-start;width: 50%;}#sk-container-id-3 div.sk-parallel-item:only-child::after {width: 0;}#sk-container-id-3 div.sk-dashed-wrapped {border: 1px dashed gray;margin: 0 0.4em 0.5em 0.4em;box-sizing: border-box;padding-bottom: 0.4em;background-color: white;}#sk-container-id-3 div.sk-label label {font-family: monospace;font-weight: bold;display: inline-block;line-height: 1.2em;}#sk-container-id-3 div.sk-label-container {text-align: center;}#sk-container-id-3 div.sk-container {/* jupyter's `normalize.less` sets `[hidden] { display: none; }` but bootstrap.min.css set `[hidden] { display: none !important; }` so we also need the `!important` here to be able to override the default hidden behavior on the sphinx rendered scikit-learn.org. See: https://github.com/scikit-learn/scikit-learn/issues/21755 */display: inline-block !important;position: relative;}#sk-container-id-3 div.sk-text-repr-fallback {display: none;}</style><div id=\"sk-container-id-3\" class=\"sk-top-container\"><div class=\"sk-text-repr-fallback\"><pre>RandomForestRegressor(max_depth=2, random_state=100)</pre><b>In a Jupyter environment, please rerun this cell to show the HTML representation or trust the notebook. <br />On GitHub, the HTML representation is unable to render, please try loading this page with nbviewer.org.</b></div><div class=\"sk-container\" hidden><div class=\"sk-item\"><div class=\"sk-estimator sk-toggleable\"><input class=\"sk-toggleable__control sk-hidden--visually\" id=\"sk-estimator-id-3\" type=\"checkbox\" checked><label for=\"sk-estimator-id-3\" class=\"sk-toggleable__label sk-toggleable__label-arrow\">RandomForestRegressor</label><div class=\"sk-toggleable__content\"><pre>RandomForestRegressor(max_depth=2, random_state=100)</pre></div></div></div></div></div>"
            ],
            "text/plain": [
              "RandomForestRegressor(max_depth=2, random_state=100)"
            ]
          },
          "execution_count": 21,
          "metadata": {},
          "output_type": "execute_result"
        }
      ],
      "source": [
        "from sklearn.ensemble import RandomForestRegressor\n",
        "\n",
        "rf = RandomForestRegressor(max_depth=2, random_state=100)\n",
        "rf.fit(X_train, y_train)"
      ]
    },
    {
      "cell_type": "markdown",
      "metadata": {
        "id": "5jc8O_VAEoEf"
      },
      "source": [
        "### **Applying the model to make a prediction**"
      ]
    },
    {
      "cell_type": "code",
      "execution_count": 22,
      "metadata": {
        "id": "Batj8MmUFSL0"
      },
      "outputs": [],
      "source": [
        "y_rf_train_pred = rf.predict(X_train)\n",
        "y_rf_test_pred = rf.predict(X_test)"
      ]
    },
    {
      "cell_type": "markdown",
      "metadata": {
        "id": "vO4HfuhZErCu"
      },
      "source": [
        "### **Evaluate model performance**"
      ]
    },
    {
      "cell_type": "code",
      "execution_count": 23,
      "metadata": {
        "id": "jKNWP5Y8FYea"
      },
      "outputs": [],
      "source": [
        "from sklearn.metrics import mean_squared_error, r2_score\n",
        "\n",
        "rf_train_mse = mean_squared_error(y_train, y_rf_train_pred)\n",
        "rf_train_r2 = r2_score(y_train, y_rf_train_pred)\n",
        "\n",
        "rf_test_mse = mean_squared_error(y_test, y_rf_test_pred)\n",
        "rf_test_r2 = r2_score(y_test, y_rf_test_pred)"
      ]
    },
    {
      "cell_type": "code",
      "execution_count": 24,
      "metadata": {
        "colab": {
          "base_uri": "https://localhost:8080/",
          "height": 81
        },
        "id": "QykSvn0xFkLP",
        "outputId": "b590d7fd-604d-47c7-b237-a75fa82711ff"
      },
      "outputs": [
        {
          "data": {
            "text/html": [
              "<div>\n",
              "<style scoped>\n",
              "    .dataframe tbody tr th:only-of-type {\n",
              "        vertical-align: middle;\n",
              "    }\n",
              "\n",
              "    .dataframe tbody tr th {\n",
              "        vertical-align: top;\n",
              "    }\n",
              "\n",
              "    .dataframe thead th {\n",
              "        text-align: right;\n",
              "    }\n",
              "</style>\n",
              "<table border=\"1\" class=\"dataframe\">\n",
              "  <thead>\n",
              "    <tr style=\"text-align: right;\">\n",
              "      <th></th>\n",
              "      <th>Method</th>\n",
              "      <th>Training MSE</th>\n",
              "      <th>Training R2</th>\n",
              "      <th>Test MSE</th>\n",
              "      <th>Test R2</th>\n",
              "    </tr>\n",
              "  </thead>\n",
              "  <tbody>\n",
              "    <tr>\n",
              "      <th>0</th>\n",
              "      <td>Random forest</td>\n",
              "      <td>0.064974</td>\n",
              "      <td>0.739979</td>\n",
              "      <td>0.070903</td>\n",
              "      <td>0.687434</td>\n",
              "    </tr>\n",
              "  </tbody>\n",
              "</table>\n",
              "</div>"
            ],
            "text/plain": [
              "          Method Training MSE Training R2  Test MSE   Test R2\n",
              "0  Random forest     0.064974    0.739979  0.070903  0.687434"
            ]
          },
          "execution_count": 24,
          "metadata": {},
          "output_type": "execute_result"
        }
      ],
      "source": [
        "rf_results = pd.DataFrame(['Random forest', rf_train_mse, rf_train_r2, rf_test_mse, rf_test_r2]).transpose()\n",
        "rf_results.columns = ['Method', 'Training MSE', 'Training R2', 'Test MSE', 'Test R2']\n",
        "rf_results"
      ]
    },
    {
      "cell_type": "markdown",
      "metadata": {
        "id": "ntqCwrr_F1ei"
      },
      "source": [
        "## **Model comparison**"
      ]
    },
    {
      "cell_type": "code",
      "execution_count": 26,
      "metadata": {
        "colab": {
          "base_uri": "https://localhost:8080/",
          "height": 112
        },
        "id": "EOSeTeNpFsc7",
        "outputId": "4a43f46c-cbb1-4f31-bd68-4731567061da"
      },
      "outputs": [],
      "source": [
        "df_models = pd.concat([lr_results, rf_results], axis=0)"
      ]
    },
    {
      "cell_type": "code",
      "execution_count": 27,
      "metadata": {
        "colab": {
          "base_uri": "https://localhost:8080/",
          "height": 112
        },
        "id": "YoipS0SjGC7n",
        "outputId": "0959eb83-5ad4-4f87-e4d0-b72dc73b8f69"
      },
      "outputs": [
        {
          "data": {
            "text/html": [
              "<div>\n",
              "<style scoped>\n",
              "    .dataframe tbody tr th:only-of-type {\n",
              "        vertical-align: middle;\n",
              "    }\n",
              "\n",
              "    .dataframe tbody tr th {\n",
              "        vertical-align: top;\n",
              "    }\n",
              "\n",
              "    .dataframe thead th {\n",
              "        text-align: right;\n",
              "    }\n",
              "</style>\n",
              "<table border=\"1\" class=\"dataframe\">\n",
              "  <thead>\n",
              "    <tr style=\"text-align: right;\">\n",
              "      <th></th>\n",
              "      <th>Method</th>\n",
              "      <th>Training MSE</th>\n",
              "      <th>Training R2</th>\n",
              "      <th>Test MSE</th>\n",
              "      <th>Test R2</th>\n",
              "    </tr>\n",
              "  </thead>\n",
              "  <tbody>\n",
              "    <tr>\n",
              "      <th>0</th>\n",
              "      <td>Linear regression</td>\n",
              "      <td>0.177381</td>\n",
              "      <td>0.290142</td>\n",
              "      <td>0.189405</td>\n",
              "      <td>0.16504</td>\n",
              "    </tr>\n",
              "    <tr>\n",
              "      <th>1</th>\n",
              "      <td>Random forest</td>\n",
              "      <td>0.064974</td>\n",
              "      <td>0.739979</td>\n",
              "      <td>0.070903</td>\n",
              "      <td>0.687434</td>\n",
              "    </tr>\n",
              "  </tbody>\n",
              "</table>\n",
              "</div>"
            ],
            "text/plain": [
              "              Method Training MSE Training R2  Test MSE   Test R2\n",
              "0  Linear regression     0.177381    0.290142  0.189405   0.16504\n",
              "1      Random forest     0.064974    0.739979  0.070903  0.687434"
            ]
          },
          "execution_count": 27,
          "metadata": {},
          "output_type": "execute_result"
        }
      ],
      "source": [
        "df_models.reset_index(drop=True)"
      ]
    },
    {
      "cell_type": "markdown",
      "metadata": {
        "id": "Ec77v0xLIaGh"
      },
      "source": [
        "# **Data visualization of prediction results**"
      ]
    },
    {
      "cell_type": "code",
      "execution_count": 28,
      "metadata": {
        "colab": {
          "base_uri": "https://localhost:8080/",
          "height": 352
        },
        "id": "O2ErUWJ2GVQs",
        "outputId": "630652ce-4068-43e2-87af-94b75738d7ee"
      },
      "outputs": [
        {
          "data": {
            "text/plain": [
              "Text(0.5, 0, 'Experimental target')"
            ]
          },
          "execution_count": 28,
          "metadata": {},
          "output_type": "execute_result"
        },
        {
          "data": {
            "image/png": "[encoded data removed]",
            "text/plain": [
              "<Figure size 500x500 with 1 Axes>"
            ]
          },
          "metadata": {},
          "output_type": "display_data"
        }
      ],
      "source": [
        "import matplotlib.pyplot as plt\n",
        "import numpy as np\n",
        "\n",
        "plt.figure(figsize=(5,5))\n",
        "plt.scatter(x=y_train, y=y_lr_train_pred, c=\"#7CAE00\" ,alpha=0.3)\n",
        "\n",
        "z = np.polyfit(y_train, y_lr_train_pred, 1)\n",
        "p = np.poly1d(z)\n",
        "\n",
        "plt.plot(y_train, p(y_train), '#F8766D')\n",
        "plt.ylabel('Predict target')\n",
        "plt.xlabel('Experimental target')"
      ]
    },
    {
      "cell_type": "code",
      "execution_count": null,
      "metadata": {
        "id": "tAP5mbO6I2mI"
      },
      "outputs": [],
      "source": []
    }
  ],
  "metadata": {
    "colab": {
      "collapsed_sections": [],
      "name": "first-ML-project.ipynb",
      "provenance": [],
      "toc_visible": true
    },
    "kernelspec": {
      "display_name": "Python 3",
      "name": "python3"
    },
    "language_info": {
      "codemirror_mode": {
        "name": "ipython",
        "version": 3
      },
      "file_extension": ".py",
      "mimetype": "text/x-python",
      "name": "python",
      "nbconvert_exporter": "python",
      "pygments_lexer": "ipython3",
      "version": "3.11.7"
    }
  },
  "nbformat": 4,
  "nbformat_minor": 0
}
